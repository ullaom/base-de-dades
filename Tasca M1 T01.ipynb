{
 "cells": [
  {
   "cell_type": "markdown",
   "metadata": {},
   "source": [
    "### Exercici 1 #\n",
    "\n",
    "A partir dels documents adjunts (estructura i dades), crea una base de dades amb MySQL. Mostra les característiques principals de l'esquema creat i explica les diferents taules i variables que hi ha."
   ]
  },
  {
   "cell_type": "code",
   "execution_count": 2,
   "metadata": {},
   "outputs": [
    {
     "name": "stdout",
     "output_type": "stream",
     "text": [
      "Requirement already satisfied: mysql-connector-python in /Users/ullaaller/opt/anaconda3/lib/python3.8/site-packages (8.0.31)\n",
      "Requirement already satisfied: protobuf<=3.20.1,>=3.11.0 in /Users/ullaaller/opt/anaconda3/lib/python3.8/site-packages (from mysql-connector-python) (3.20.1)\n"
     ]
    }
   ],
   "source": [
    "!pip install mysql-connector-python"
   ]
  },
  {
   "cell_type": "code",
   "execution_count": 3,
   "metadata": {},
   "outputs": [],
   "source": [
    "import mysql.connector\n"
   ]
  },
  {
   "cell_type": "code",
   "execution_count": 4,
   "metadata": {},
   "outputs": [
    {
     "name": "stdout",
     "output_type": "stream",
     "text": [
      "<mysql.connector.connection.MySQLConnection object at 0x7f7da967c730>\n"
     ]
    }
   ],
   "source": [
    "import mysql.connector\n",
    "\n",
    "mydb = mysql.connector.connect(\n",
    "  host=\"localhost\",\n",
    "  user=\"root\",\n",
    "  password=\"Ona_mauro1012\"\n",
    ")\n",
    "\n",
    "print(mydb) "
   ]
  },
  {
   "cell_type": "code",
   "execution_count": 40,
   "metadata": {},
   "outputs": [],
   "source": [
    "## CREAR una base de datos\n",
    "\n",
    "import mysql.connector\n",
    "\n",
    "mydb = mysql.connector.connect(\n",
    "  host=\"localhost\",\n",
    "  user=\"root\",\n",
    "  passwd=\"Ona_mauro1012\",\n",
    "  \n",
    ")\n",
    "\n",
    "mycursor = mydb.cursor()\n",
    "\n",
    "sql = \"CREATE DATABASE movies\"\n",
    "\n",
    "mycursor.execute(sql)"
   ]
  },
  {
   "cell_type": "code",
   "execution_count": 37,
   "metadata": {},
   "outputs": [
    {
     "name": "stdout",
     "output_type": "stream",
     "text": [
      "('information_schema',)\n",
      "('movies',)\n",
      "('mydatabase',)\n",
      "('mysql',)\n",
      "('performance_schema',)\n",
      "('sys',)\n"
     ]
    }
   ],
   "source": [
    "## MOSTRAR las bases de datos \n",
    "    \n",
    "import mysql.connector\n",
    "\n",
    "mydb = mysql.connector.connect(\n",
    "  host=\"localhost\",\n",
    "  user=\"root\",\n",
    "  password=\"Ona_mauro1012\"\n",
    ")\n",
    "\n",
    "mycursor = mydb.cursor()\n",
    "\n",
    "mycursor.execute(\"SHOW DATABASES\")\n",
    "\n",
    "for x in mycursor:\n",
    "  print(x) "
   ]
  },
  {
   "cell_type": "markdown",
   "metadata": {},
   "source": [
    " ## Eliminar una base de datos\n",
    "import mysql.connector\n",
    "\n",
    "mydb = mysql.connector.connect(\n",
    "  host=\"localhost\",\n",
    "  user=\"root\",\n",
    "  passwd=\"Ona_mauro1012\",\n",
    "  database=\"movies\"\n",
    ")\n",
    "\n",
    "mycursor = mydb.cursor()\n",
    "\n",
    "sql = \"DROP DATABASE movies\"\n",
    "\n",
    "mycursor.execute(sql)"
   ]
  },
  {
   "cell_type": "markdown",
   "metadata": {},
   "source": [
    "## Eliminar una tabla\n",
    "import mysql.connector\n",
    "\n",
    "mydb = mysql.connector.connect(\n",
    "  host=\"localhost\",\n",
    "  user=\"root\",\n",
    "  passwd=\"Ona_mauro1012\",\n",
    "  database=\"movies\"\n",
    ")\n",
    "\n",
    "mycursor = mydb.cursor()\n",
    "\n",
    "sql = \"DROP TABLE tb_person\"\n",
    "\n",
    "mycursor.execute(sql)"
   ]
  },
  {
   "cell_type": "code",
   "execution_count": 48,
   "metadata": {},
   "outputs": [
    {
     "name": "stdout",
     "output_type": "stream",
     "text": [
      "0 Se ha creado la tabla movie.tb_genre\n"
     ]
    }
   ],
   "source": [
    "## Crear una tabla\n",
    "\n",
    "import mysql.connector\n",
    "mydb = mysql.connector.connect(\n",
    "  host=\"localhost\",\n",
    "  user=\"root\",\n",
    "  password=\"Ona_mauro1012\",\n",
    "  database=\"movies\"\n",
    ")\n",
    "\n",
    "mycursor = mydb.cursor()\n",
    "\n",
    "mycursor.execute(\"CREATE TABLE movies.tb_genre \\\n",
    "                (genre_id        INTEGER NOT NULL ,\\\n",
    "  genre_name       CHARACTER VARYING(40) NOT NULL ,\\\n",
    "  created_by_user  CHARACTER VARYING(10) NOT NULL DEFAULT 'OS_SGAD' ,\\\n",
    "  created_date     DATE ,\\\n",
    "  updated_date     DATE ,\\\n",
    "  CONSTRAINT pk_genre PRIMARY KEY (genre_id))\")\n",
    "\n",
    "\n",
    "\n",
    "print(mycursor.rowcount, \"Se ha creado la tabla movies.tb_genre\")"
   ]
  },
  {
   "cell_type": "code",
   "execution_count": 1,
   "metadata": {},
   "outputs": [
    {
     "name": "stdout",
     "output_type": "stream",
     "text": [
      "1 Se han insertado los datos a  la tabla movies.tb_genre\n"
     ]
    }
   ],
   "source": [
    "import mysql.connector\n",
    "\n",
    "mydb = mysql.connector.connect(\n",
    "  host=\"localhost\",\n",
    "  user=\"root\",\n",
    "  passwd=\"Ona_mauro1012\",\n",
    "  database=\"movies\"\n",
    ")\n",
    "\n",
    "mycursor = mydb.cursor()\n",
    "\n",
    "mycursor.execute (\"INSERT INTO movies.tb_genre (genre_id, genre_name) VALUES ( 1, 'Acción')\")\n",
    "mycursor.execute (\"INSERT INTO movies.tb_genre (genre_id, genre_name) VALUES ( 2, 'Ciencia Ficción')\")\n",
    "mycursor.execute (\"INSERT INTO movies.tb_genre (genre_id, genre_name) VALUES ( 3, 'Comedia')\")\n",
    "mycursor.execute (\"INSERT INTO movies.tb_genre (genre_id, genre_name) VALUES ( 4, 'Drama')\")\n",
    "mycursor.execute (\"INSERT INTO movies.tb_genre (genre_id, genre_name, created_by_user) VALUES ( 5, 'Fantasía', 'apermag')\")\n",
    "mycursor.execute (\"INSERT INTO movies.tb_genre (genre_id, genre_name, created_by_user, created_date, updated_date) VALUES ( 6, 'Melodrama', 'apermag', '2018-09-01', '2018-09-27')\")\n",
    "mycursor.execute (\"INSERT INTO movies.tb_genre (genre_id, genre_name) VALUES ( 7, 'Musical')\")\n",
    "mycursor.execute (\"INSERT INTO movies.tb_genre (genre_id, genre_name) VALUES ( 8, 'Romance')\")\n",
    "mycursor.execute (\"INSERT INTO movies.tb_genre (genre_id, genre_name) VALUES ( 9, 'Suspense')\")\n",
    "mycursor.execute (\"INSERT INTO movies.tb_genre (genre_id, genre_name) VALUES (10, 'Terror')\")\n",
    "mycursor.execute (\"INSERT INTO movies.tb_genre (genre_id, genre_name) VALUES (11, 'Bélico')\")\n",
    "\n",
    "\n",
    "\n",
    "print(mycursor.rowcount, \"Se han insertado los datos a  la tabla movies.tb_genre\")"
   ]
  },
  {
   "cell_type": "code",
   "execution_count": 50,
   "metadata": {},
   "outputs": [
    {
     "name": "stdout",
     "output_type": "stream",
     "text": [
      "0 Se ha creado la tabla tb_movie\n"
     ]
    }
   ],
   "source": [
    "\n",
    "import mysql.connector\n",
    "mydb = mysql.connector.connect(\n",
    "  host=\"localhost\",\n",
    "  user=\"root\",\n",
    "  password=\"Ona_mauro1012\",\n",
    "  database=\"movies\"\n",
    ")\n",
    "\n",
    "mycursor = mydb.cursor()\n",
    "\n",
    "mycursor.execute(\"CREATE TABLE tb_movie \\\n",
    "                 (movie_id         INTEGER NOT NULL ,\\\n",
    "                 movie_title      CHARACTER VARYING(100) NOT NULL ,\\\n",
    "                  movie_date       DATE ,\\\n",
    "                  movie_format     CHARACTER VARYING(50) ,\\\n",
    "                  movie_genre_id   INTEGER ,\\\n",
    "                  created_by_user  CHARACTER VARYING(10) NOT NULL DEFAULT 'OS_SGAD' ,\\\n",
    "                created_date     DATE ,\\\n",
    "                  updated_date     DATE ,\\\n",
    "              CONSTRAINT pk_movie PRIMARY KEY (movie_id) ,\\\n",
    "              CONSTRAINT fk_movie_genre FOREIGN KEY (movie_genre_id) REFERENCES movies.tb_genre (genre_id))\")\n",
    "\n",
    "\n",
    "print(mycursor.rowcount, \"Se ha creado la tabla tb_movie\")\n",
    "\n"
   ]
  },
  {
   "cell_type": "code",
   "execution_count": 3,
   "metadata": {},
   "outputs": [
    {
     "name": "stdout",
     "output_type": "stream",
     "text": [
      "('tb_genre',)\n",
      "('tb_movie',)\n"
     ]
    }
   ],
   "source": [
    "import mysql.connector\n",
    "\n",
    "mydb = mysql.connector.connect(\n",
    "  host=\"localhost\",\n",
    "  user=\"root\",\n",
    "  password=\"Ona_mauro1012\",\n",
    "  database=\"movies\"\n",
    ")\n",
    "\n",
    "mycursor = mydb.cursor()\n",
    "\n",
    "mycursor.execute(\"SHOW TABLES\")\n",
    "\n",
    "for x in mycursor:\n",
    "  print(x) "
   ]
  },
  {
   "cell_type": "code",
   "execution_count": 10,
   "metadata": {},
   "outputs": [
    {
     "name": "stdout",
     "output_type": "stream",
     "text": [
      "0 Se ha creado la tabla movies.tb_role\n"
     ]
    }
   ],
   "source": [
    "import mysql.connector\n",
    "mydb = mysql.connector.connect(\n",
    "  host=\"localhost\",\n",
    "  user=\"root\",\n",
    "  password=\"Ona_mauro1012\",\n",
    "  database=\"movies\"\n",
    ")\n",
    "\n",
    "mycursor = mydb.cursor()\n",
    "\n",
    "mycursor.execute(\"CREATE TABLE movies.tb_role\\\n",
    "(role_id          INTEGER NOT NULL ,\\\n",
    "  role_name        CHARACTER VARYING(60) NOT NULL ,\\\n",
    "  created_by_user  CHARACTER VARYING(10) NOT NULL DEFAULT 'OS_SGAD' ,\\\n",
    "  created_date     DATE ,\\\n",
    "  updated_date     DATE ,\\\n",
    "  CONSTRAINT pk_role PRIMARY KEY (role_id))\")\n",
    "\n",
    "\n",
    "print(mycursor.rowcount, \"Se ha creado la tabla movies.tb_role\")\n",
    "\n"
   ]
  },
  {
   "cell_type": "code",
   "execution_count": 12,
   "metadata": {},
   "outputs": [
    {
     "name": "stdout",
     "output_type": "stream",
     "text": [
      "1 Se han insertado los datos a la tabla movies.tb_role\n"
     ]
    }
   ],
   "source": [
    "import mysql.connector\n",
    "\n",
    "mydb = mysql.connector.connect(\n",
    "  host=\"localhost\",\n",
    "  user=\"root\",\n",
    "  passwd=\"Ona_mauro1012\",\n",
    "  database=\"movies\"\n",
    ")\n",
    "\n",
    "mycursor = mydb.cursor()\n",
    "\n",
    "\n",
    "mycursor.execute (\"INSERT INTO movies.tb_role (role_id, role_name) VALUES ( 1, 'Actor')\")\n",
    "mycursor.execute (\"INSERT INTO movies.tb_role (role_id, role_name) VALUES ( 2, 'Director')\")\n",
    "mycursor.execute (\"INSERT INTO movies.tb_role (role_id, role_name) VALUES ( 3, 'Productor')\")\n",
    "mycursor.execute (\"INSERT INTO movies.tb_role (role_id, role_name) VALUES ( 4, 'Guionista')\")\n",
    "mycursor.execute (\"INSERT INTO movies.tb_role (role_id, role_name) VALUES ( 5, 'Música')\")\n",
    "\n",
    "\n",
    "print(mycursor.rowcount, \"Se han insertado los datos a la tabla movies.tb_role\")"
   ]
  },
  {
   "cell_type": "code",
   "execution_count": 18,
   "metadata": {},
   "outputs": [
    {
     "name": "stdout",
     "output_type": "stream",
     "text": [
      "0 Se ha creado la tabla tb_person\n"
     ]
    }
   ],
   "source": [
    "import mysql.connector\n",
    "mydb = mysql.connector.connect(\n",
    "  host=\"localhost\",\n",
    "  user=\"root\",\n",
    "  password=\"Ona_mauro1012\",\n",
    "  database=\"movies\"\n",
    ")\n",
    "\n",
    "mycursor = mydb.cursor()\n",
    "\n",
    "mycursor.execute(\"CREATE TABLE movies.tb_person\\\n",
    "(person_id        INTEGER NOT NULL ,\\\n",
    "  person_name      CHARACTER VARYING(100) NOT NULL ,\\\n",
    "  person_country   CHARACTER VARYING(40) , \\\n",
    "  person_dob       DATE NOT NULL ,\\\n",
    "  person_dod       DATE ,\\\n",
    "  person_parent_id INTEGER ,\\\n",
    "  created_by_user  CHARACTER VARYING(10) NOT NULL DEFAULT 'OS_SGAD' ,\\\n",
    "  created_date     DATE ,\\\n",
    "  updated_date     DATE ,\\\n",
    "  CONSTRAINT pk_person PRIMARY KEY (person_id) ,\\\n",
    "  CONSTRAINT fk_person_parent FOREIGN KEY (person_parent_id) REFERENCES movies.tb_person (person_id))\")\n",
    "\n",
    "\n",
    "print(mycursor.rowcount, \"Se ha creado la tabla tb_person\")\n",
    "\n",
    "\n"
   ]
  },
  {
   "cell_type": "code",
   "execution_count": 19,
   "metadata": {},
   "outputs": [
    {
     "name": "stdout",
     "output_type": "stream",
     "text": [
      "1 Se han insertado los datos a la tabla tb_person\n"
     ]
    }
   ],
   "source": [
    "import mysql.connector\n",
    "\n",
    "mydb = mysql.connector.connect(\n",
    "  host=\"localhost\",\n",
    "  user=\"root\",\n",
    "  passwd=\"Ona_mauro1012\",\n",
    "  database=\"movies\"\n",
    ")\n",
    "\n",
    "mycursor = mydb.cursor()\n",
    "\n",
    "\n",
    "mycursor.execute (\"INSERT INTO movies.tb_person (person_id, person_name, person_country, person_dob, person_dod, person_parent_id) VALUES ( 1, 'Francis Ford Coppola', 'United States', '1939-04-07', NULL, NULL)\")\n",
    "mycursor.execute (\"INSERT INTO movies.tb_person (person_id, person_name, person_country, person_dob, person_dod, person_parent_id) VALUES ( 2, 'Carmine Coppola', 'United States', '1945-07-08', NULL, NULL)\")\n",
    "mycursor.execute (\"INSERT INTO movies.tb_person (person_id, person_name, person_country, person_dob, person_dod, person_parent_id) VALUES ( 3, 'Marlon Brando', 'United States', '1924-04-03', '2004-07-01', NULL)\")\n",
    "mycursor.execute (\"INSERT INTO movies.tb_person (person_id, person_name, person_country, person_dob, person_dod, person_parent_id) VALUES ( 4, 'Robert Duvall', 'United States', '1931-01-05', NULL, NULL)\")\n",
    "mycursor.execute (\"INSERT INTO movies.tb_person (person_id, person_name, person_country, person_dob, person_dod, person_parent_id) VALUES ( 5, 'Martin Sheen', 'United States', '1940-08-03', NULL, NULL)\")\n",
    "mycursor.execute (\"INSERT INTO movies.tb_person (person_id, person_name, person_country, person_dob, person_dod, person_parent_id) VALUES ( 6, 'Harrison Ford', 'United States', '1942-07-13', NULL, NULL)\")\n",
    "mycursor.execute (\"INSERT INTO movies.tb_person (person_id, person_name, person_country, person_dob, person_dod, person_parent_id) VALUES ( 7, 'George Lucas', 'United States', '1944-05-14', NULL, NULL)\")\n",
    "mycursor.execute (\"INSERT INTO movies.tb_person (person_id, person_name, person_country, person_dob, person_dod, person_parent_id) VALUES ( 8, 'Gary Kurtz', 'United States', '1940-07-27', NULL, NULL)\")\n",
    "mycursor.execute (\"INSERT INTO movies.tb_person (person_id, person_name, person_country, person_dob, person_dod, person_parent_id) VALUES ( 9, 'Steven Spielberg', 'United States', '1946-12-18', NULL, NULL)\")\n",
    "mycursor.execute (\"INSERT INTO movies.tb_person (person_id, person_name, person_country, person_dob, person_dod, person_parent_id) VALUES (10, 'John Williams', 'United States', '1928-08-08', NULL, NULL)\")\n",
    "mycursor.execute (\"INSERT INTO movies.tb_person (person_id, person_name, person_country, person_dob, person_dod, person_parent_id) VALUES (11, 'Tom Hanks', 'United States', '1956-07-09', NULL, NULL)\")\n",
    "mycursor.execute (\"INSERT INTO movies.tb_person (person_id, person_name, person_country, person_dob, person_dod, person_parent_id) VALUES (12, 'Catherine Zeta-Jones', 'Wales', '1969-09-25', NULL, NULL)\")\n",
    "mycursor.execute (\"INSERT INTO movies.tb_person (person_id, person_name, person_country, person_dob, person_dod, person_parent_id) VALUES (13, 'Alfred Joseph Hitchcock', 'United Kingdom', '1899-08-13', '1980-04-29', NULL)\")\n",
    "mycursor.execute (\"INSERT INTO movies.tb_person (person_id, person_name, person_country, person_dob, person_dod, person_parent_id) VALUES (14, 'Anthony Perkins', 'United States', '1934-04-04', '1992-09-08', NULL)\")\n",
    "mycursor.execute (\"INSERT INTO movies.tb_person (person_id, person_name, person_country, person_dob, person_dod, person_parent_id) VALUES (15, 'Vera Miles', 'United States', '1929-08-23', NULL, NULL)\")\n",
    "mycursor.execute (\"INSERT INTO movies.tb_person (person_id, person_name, person_country, person_dob, person_dod, person_parent_id) VALUES (16, 'Emilio Martinez Lazaro', 'Spain', '1956-09-09', NULL, NULL)\")\n",
    "mycursor.execute (\"INSERT INTO movies.tb_person (person_id, person_name, person_country, person_dob, person_dod, person_parent_id) VALUES (17, 'Dani Rovira', 'Spain', '1984-07-01', NULL, NULL)\")\n",
    "mycursor.execute (\"INSERT INTO movies.tb_person (person_id, person_name, person_country, person_dob, person_dod, person_parent_id) VALUES (18, 'Clara Lago', 'Spain', '1986-04-17', NULL, NULL)\")\n",
    "mycursor.execute (\"INSERT INTO movies.tb_person (person_id, person_name, person_country, person_dob, person_dod, person_parent_id) VALUES (19, 'Carmen Machi', 'Spain', '1964-08-09', NULL, NULL)\")\n",
    "mycursor.execute (\"INSERT INTO movies.tb_person (person_id, person_name, person_country, person_dob, person_dod, person_parent_id) VALUES (20, 'Karra Elejalde', 'Spain', '1960-03-06', NULL, NULL)\")\n",
    "mycursor.execute (\"INSERT INTO movies.tb_person (person_id, person_name, person_country, person_dob, person_dod, person_parent_id) VALUES (21, 'Daniel Sanchez Arevalo', 'Spain', '1970-06-08', NULL, NULL)\")\n",
    "mycursor.execute (\"INSERT INTO movies.tb_person (person_id, person_name, person_country, person_dob, person_dod, person_parent_id) VALUES (22, 'Quim Gutierrez', 'Spain', '1981-03-27', NULL, NULL)\")\n",
    "mycursor.execute (\"INSERT INTO movies.tb_person (person_id, person_name, person_country, person_dob, person_dod, person_parent_id) VALUES (23, 'Robert Alamo', 'Spain', '1970-05-06', NULL, NULL)\")\n",
    "mycursor.execute (\"INSERT INTO movies.tb_person (person_id, person_name, person_country, person_dob, person_dod, person_parent_id) VALUES (24, 'Hector Colome', 'Spain', '1944-10-25', '2015-02-28', NULL)\")\n",
    "mycursor.execute (\"INSERT INTO movies.tb_person (person_id, person_name, person_country, person_dob, person_dod, person_parent_id) VALUES (25, 'Veronica Echegui', 'Spain', '1983-03-14', NULL, NULL)\")\n",
    "mycursor.execute (\"INSERT INTO movies.tb_person (person_id, person_name, person_country, person_dob, person_dod, person_parent_id) VALUES (26, 'Patrick Criado', 'Spain', '1995-09-23', NULL, NULL)\")\n",
    "mycursor.execute (\"INSERT INTO movies.tb_person (person_id, person_name, person_country, person_dob, person_dod, person_parent_id) VALUES (27, 'Sean Connery', 'Scotland', '1930-07-08', NULL, NULL)\")\n",
    "mycursor.execute (\"INSERT INTO movies.tb_person (person_id, person_name, person_country, person_dob, person_dod, person_parent_id) VALUES (28, 'Mel Gibson', 'Australia', '1950-08-09', NULL, NULL)\")\n",
    "mycursor.execute (\"INSERT INTO movies.tb_person (person_id, person_name, person_country, person_dob, person_dod, person_parent_id) VALUES (29, 'Morgan Freeman', 'United States', '1935-10-01', NULL, NULL)\")\n",
    "mycursor.execute (\"INSERT INTO movies.tb_person (person_id, person_name, person_country, person_dob, person_dod, person_parent_id) VALUES (30, 'Tim Robbins', 'United States', '1949-06-07', NULL, NULL)\")\n",
    "mycursor.execute (\"INSERT INTO movies.tb_person (person_id, person_name, person_country, person_dob, person_dod, person_parent_id) VALUES (41, 'Charlie Sheen', 'United States', '1965-09-03', NULL, 5)\")\n",
    "mycursor.execute (\"INSERT INTO movies.tb_person (person_id, person_name, person_country, person_dob, person_dod, person_parent_id) VALUES (42, 'Emilio Estevez', 'United States', '1962-05-12', NULL, 5)\")\n",
    "mycursor.execute (\"INSERT INTO movies.tb_person (person_id, person_name, person_country, person_dob, person_dod, person_parent_id) VALUES (43, 'Ramón Estevez', 'United States', '1963-08-07', NULL, 5)\")\n",
    "mycursor.execute (\"INSERT INTO movies.tb_person (person_id, person_name, person_country, person_dob, person_dod, person_parent_id) VALUES (44, 'Reneé Estevez', 'United States', '1967-04-02', NULL, 5)\")\n",
    "mycursor.execute (\"INSERT INTO movies.tb_person (person_id, person_name, person_country, person_dob, person_dod, person_parent_id) VALUES (45, 'Paula Speert Sheen', 'United States', '1986-01-06', NULL,41)\")\n",
    "mycursor.execute (\"INSERT INTO movies.tb_person (person_id, person_name, person_country, person_dob, person_dod, person_parent_id) VALUES (46, 'Bob Sheen', 'United States', '2009-05-01', NULL,41)\")\n",
    "mycursor.execute (\"INSERT INTO movies.tb_person (person_id, person_name, person_country, person_dob, person_dod, person_parent_id) VALUES (47, 'Max Sheen', 'United States', '2009-05-01', NULL,41)\")\n",
    "mycursor.execute (\"INSERT INTO movies.tb_person (person_id, person_name, person_country, person_dob, person_dod, person_parent_id) VALUES (48, 'Sam Sheen', 'United States', '2004-03-09', NULL,41)\")\n",
    "mycursor.execute (\"INSERT INTO movies.tb_person (person_id, person_name, person_country, person_dob, person_dod, person_parent_id) VALUES (49, 'Lola Sheen', 'United States', '2005-06-01', NULL,41)\")\n",
    "mycursor.execute (\"INSERT INTO movies.tb_person (person_id, person_name, person_country, person_dob, person_dod, person_parent_id) VALUES (50, 'Paula Jones-Sheen', 'United States', '2003-07-06', NULL,45)\")\n",
    "mycursor.execute (\"INSERT INTO movies.tb_person (person_id, person_name, person_country, person_dob, person_dod, person_parent_id) VALUES (51, 'Paloma Rae Estevez', 'United States', '1986-02-15', NULL,42)\")\n",
    "mycursor.execute (\"INSERT INTO movies.tb_person (person_id, person_name, person_country, person_dob, person_dod, person_parent_id) VALUES (52, 'Taylor Levi Estevez', 'United States', '1984-06-22', NULL,42)\")\n",
    "\n",
    "\n",
    "\n",
    "print(mycursor.rowcount, \"Se han insertado los datos a la tabla tb_person\")\n"
   ]
  },
  {
   "cell_type": "code",
   "execution_count": 20,
   "metadata": {},
   "outputs": [
    {
     "name": "stdout",
     "output_type": "stream",
     "text": [
      "0 Se ha creado la tabla tb_movie_person\n"
     ]
    }
   ],
   "source": [
    "import mysql.connector\n",
    "mydb = mysql.connector.connect(\n",
    "  host=\"localhost\",\n",
    "  user=\"root\",\n",
    "  password=\"Ona_mauro1012\",\n",
    "  database=\"movies\"\n",
    ")\n",
    "\n",
    "mycursor = mydb.cursor()\n",
    "\n",
    "mycursor.execute(\"CREATE TABLE movies.tb_movie_person \\\n",
    "                 (movie_id         INTEGER NOT NULL ,\\\n",
    "  person_id        INTEGER NOT NULL ,\\\n",
    "  role_id          INTEGER NOT NULL ,\\\n",
    "  movie_award_ind  CHAR(1) NOT NULL ,\\\n",
    "  created_by_user  CHARACTER VARYING(10) NOT NULL DEFAULT 'OS_SGAD' ,\\\n",
    "  created_date     DATE ,\\\n",
    "  updated_date     DATE ,\\\n",
    "  CONSTRAINT pk_movper PRIMARY KEY (movie_id, person_id, role_id) ,\\\n",
    "  CONSTRAINT fk_movper_movie FOREIGN KEY (movie_id) REFERENCES movies.tb_movie (movie_id) ,\\\n",
    "  CONSTRAINT fk_movper_person FOREIGN KEY (person_id) REFERENCES movies.tb_person (person_id) ,\\\n",
    "  CONSTRAINT fk_movper_role FOREIGN KEY (role_id) REFERENCES movies.tb_role (role_id))\")\n",
    "\n",
    "print(mycursor.rowcount, \"Se ha creado la tabla tb_movie_person\")\n",
    "\n",
    "\n"
   ]
  },
  {
   "cell_type": "code",
   "execution_count": null,
   "metadata": {},
   "outputs": [],
   "source": []
  }
 ],
 "metadata": {
  "kernelspec": {
   "display_name": "Python 3",
   "language": "python",
   "name": "python3"
  },
  "language_info": {
   "codemirror_mode": {
    "name": "ipython",
    "version": 3
   },
   "file_extension": ".py",
   "mimetype": "text/x-python",
   "name": "python",
   "nbconvert_exporter": "python",
   "pygments_lexer": "ipython3",
   "version": "3.8.5"
  },
  "latex_envs": {
   "LaTeX_envs_menu_present": true,
   "autoclose": false,
   "autocomplete": true,
   "bibliofile": "biblio.bib",
   "cite_by": "apalike",
   "current_citInitial": 1,
   "eqLabelWithNumbers": true,
   "eqNumInitial": 1,
   "hotkeys": {
    "equation": "Ctrl-E",
    "itemize": "Ctrl-I"
   },
   "labels_anchors": false,
   "latex_user_defs": false,
   "report_style_numbering": false,
   "user_envs_cfg": false
  },
  "nbTranslate": {
   "displayLangs": [
    "*"
   ],
   "hotkey": "alt-t",
   "langInMainMenu": true,
   "sourceLang": "en",
   "targetLang": "fr",
   "useGoogleTranslate": true
  }
 },
 "nbformat": 4,
 "nbformat_minor": 4
}
